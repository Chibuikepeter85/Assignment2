{
 "cells": [
  {
   "cell_type": "markdown",
   "metadata": {},
   "source": [
    "# Assignment 2: Development of garbage classification model \n",
    "# Group 3: Chibuike Peter Ohanu and Irtaza Sohail"
   ]
  },
  {
   "cell_type": "markdown",
   "metadata": {},
   "source": [
    "# Importing all the  necessary libraries"
   ]
  },
  {
   "cell_type": "code",
   "execution_count": null,
   "metadata": {},
   "outputs": [],
   "source": [
    "# Import necessary libraries\n",
    "import torch\n",
    "import os\n",
    "import numpy as np\n",
    "from PIL import Image\n",
    "from torch.utils.data import Dataset, DataLoader\n",
    "import torch.nn as nn\n",
    "from torchvision import transforms, models\n",
    "from transformers import DistilBertTokenizer, DistilBertModel\n",
    "from sklearn.metrics import confusion_matrix, accuracy_score, recall_score, precision_score, classification_report\n",
    "import seaborn as sns\n",
    "import matplotlib.pyplot as plt\n",
    "from torch.optim import Adam\n",
    "from torch.optim.lr_scheduler import ReduceLROnPlateau\n",
    "import torch.nn.functional as F\n",
    "import time"
   ]
  },
  {
   "cell_type": "markdown",
   "metadata": {},
   "source": [
    "# Checking the available device for the training"
   ]
  },
  {
   "cell_type": "code",
   "execution_count": null,
   "metadata": {},
   "outputs": [],
   "source": [
    "device = torch.device('cuda' if torch.cuda.is_available() else 'cpu')\n",
    "print(\"Device:\", device)"
   ]
  },
  {
   "cell_type": "markdown",
   "metadata": {},
   "source": [
    "# Setting the path to dataset folders"
   ]
  },
  {
   "cell_type": "code",
   "execution_count": null,
   "metadata": {},
   "outputs": [],
   "source": [
    "# Paths for train, validation, and test datasets\n",
    "TRAIN_PATH = r\"/work/TALC/enel645_2024f/garbage_data/CVPR_2024_dataset_Train\"\n",
    "VAL_PATH = r\"/work/TALC/enel645_2024f/garbage_data/CVPR_2024_dataset_Val\"\n",
    "TEST_PATH = r\"/work/TALC/enel645_2024f/garbage_data/CVPR_2024_dataset_Test\"\n",
    "\n",
    "# Defining class names\n",
    "class_names = [\"Red\", \"Blue\", \"Black\", \"TTR\"]\n"
   ]
  },
  {
   "cell_type": "markdown",
   "metadata": {},
   "source": [
    "# Dataset exploration functions"
   ]
  },
  {
   "cell_type": "code",
   "execution_count": null,
   "metadata": {},
   "outputs": [],
   "source": [
    "# Dataset exploration and print image size and formats\n",
    "# To decide on how to preprocess the data\n",
    "def explore_dataset(dataset_path):\n",
    "    sizes = []\n",
    "    formats = set()\n",
    "    for class_name in os.listdir(dataset_path):\n",
    "        class_folder = os.path.join(dataset_path, class_name)\n",
    "        for image_name in os.listdir(class_folder):\n",
    "            image_path = os.path.join(class_folder, image_name)\n",
    "            with Image.open(image_path) as img:\n",
    "                sizes.append(img.size)\n",
    "                formats.add(img.format)\n",
    "    print(\"Image Sizes:\", sizes[:5], \"...\")\n",
    "    print(\"Image Formats:\", formats)\n",
    "\n"
   ]
  },
  {
   "cell_type": "markdown",
   "metadata": {},
   "source": [
    "\n",
    "# Pre-process the data"
   ]
  },
  {
   "cell_type": "code",
   "execution_count": null,
   "metadata": {},
   "outputs": [],
   "source": [
    "# Step 2: Pre-process the data \n",
    "# Define a custom function to pad images to a square shape\n",
    "# To ensure that all the images are of equal size and can be trained by the model\n",
    "def pad_to_square(image):\n",
    "    width, height = image.size\n",
    "    max_dim = max(width, height)\n",
    "    padding = (\n",
    "        (max_dim - width) // 2,\n",
    "        (max_dim - height) // 2,\n",
    "        (max_dim - width) - (max_dim - width) // 2,\n",
    "        (max_dim - height) - (max_dim - height) // 2\n",
    "    )\n",
    "    return transforms.functional.pad(image, padding, fill=0, padding_mode=\"constant\") # To add black border around all images\n",
    "\n",
    "# Transformations for pre-processing and data augmentation\n",
    "image_transform = transforms.Compose([\n",
    "    transforms.Lambda(pad_to_square),      # Pad image to square shape\n",
    "    transforms.Resize((224, 224)),         # Resize all images to 224x224 after padding. Since the images are square, resizing maintains the aspect ratio\n",
    "    transforms.RandomHorizontalFlip(),     #Transforming data for data augmentation\n",
    "    transforms.RandomRotation(10),\n",
    "    transforms.ColorJitter(brightness=0.2, contrast=0.2, saturation=0.2, hue=0.1),\n",
    "    transforms.ToTensor(),\n",
    "    transforms.Normalize(mean=[0.485, 0.456, 0.406], std=[0.229, 0.224, 0.225])  # Normalizing the images with the mean and standard deviation of the dataset on which the original model was trained \n",
    "])  \n"
   ]
  },
  {
   "cell_type": "markdown",
   "metadata": {},
   "source": [
    "# Experimental Setup"
   ]
  },
  {
   "cell_type": "code",
   "execution_count": null,
   "metadata": {},
   "outputs": [],
   "source": [
    "# Step 3: Experimental setup \n",
    "tokenizer = DistilBertTokenizer.from_pretrained('distilbert-base-uncased') # Loads a pre-trained DistilBERT tokenizer for text feature extraction\n",
    "max_len = 128 # Sets the maximum length for text tokenization\n",
    "\n",
    "# Dataset Class\n",
    "class CustomImageTextDataset(Dataset):  # Defines a custom dataset class inheriting from PyTorch’s Dataset, which allows loading and processing paired image and text data.\n",
    "    def __init__(self, image_dir, tokenizer, max_len, image_transform=None):  \n",
    "        self.image_paths, self.texts, self.labels = [], [], []  \n",
    "        self.tokenizer = tokenizer  \n",
    "        self.max_len = max_len  \n",
    "        self.image_transform = image_transform  # Image transformations to be applied to each image.\n",
    "\n",
    "        class_folders = sorted(os.listdir(image_dir))  .\n",
    "        label_map = {class_name: idx for idx, class_name in enumerate(class_folders)}  # To get class name from folder name  \n",
    "        self.label_map = label_map  \n",
    "\n",
    "        for class_name in class_folders:  # Sorting all the images from the directory \n",
    "            class_path = os.path.join(image_dir, class_name)  \n",
    "            if os.path.isdir(class_path):  \n",
    "                for file_name in os.listdir(class_path):  \n",
    "                    if file_name.endswith(('.png', '.jpg')):  \n",
    "                        self.image_paths.append(os.path.join(class_path, file_name))  \n",
    "                        self.texts.append(os.path.splitext(file_name)[0].replace('_', ' '))  # Removing spaces to rename images \n",
    "                        self.labels.append(label_map[class_name])  \n",
    "\n",
    "    def __len__(self): \n",
    "        return len(self.image_paths)   # Returns the total number of images\n",
    "\n",
    "# Loads and preprocesses an image and its associated text data, returning them in a format suitable for model input\n",
    "    def __getitem__(self, idx):\n",
    "        image = Image.open(self.image_paths[idx]).convert(\"RGB\") # Coverts the images to RGB format if they are in a different format\n",
    "        if self.image_transform:\n",
    "            image = self.image_transform(image)\n",
    "\n",
    "        text = self.texts[idx]\n",
    "        encoding = self.tokenizer.encode_plus(\n",
    "            text,\n",
    "            add_special_tokens=True,\n",
    "            max_length=self.max_len,\n",
    "            return_token_type_ids=False,\n",
    "            padding='max_length',\n",
    "            truncation=True,\n",
    "            return_attention_mask=True,\n",
    "            return_tensors='pt' # Returns the output as PyTorch tensors\n",
    "        )\n",
    "\n",
    "        return {\n",
    "            'image': image,\n",
    "            'input_ids': encoding['input_ids'].flatten(),\n",
    "            'attention_mask': encoding['attention_mask'].flatten(),\n",
    "            'label': torch.tensor(self.labels[idx], dtype=torch.long)\n",
    "        }\n",
    "\n",
    "# Create datasets and loaders\n",
    "train_dataset = CustomImageTextDataset(image_dir=TRAIN_PATH, tokenizer=tokenizer, max_len=max_len, image_transform=image_transform)\n",
    "val_dataset = CustomImageTextDataset(image_dir=VAL_PATH, tokenizer=tokenizer, max_len=max_len, image_transform=image_transform)\n",
    "test_dataset = CustomImageTextDataset(image_dir=TEST_PATH, tokenizer=tokenizer, max_len=max_len, image_transform=image_transform)\n",
    "\n",
    "batch_size = 32\n",
    "train_loader = DataLoader(train_dataset, batch_size=batch_size, shuffle=True)\n",
    "val_loader = DataLoader(val_dataset, batch_size=batch_size, shuffle=False)\n",
    "test_loader = DataLoader(test_dataset, batch_size=batch_size, shuffle=False)"
   ]
  },
  {
   "cell_type": "markdown",
   "metadata": {},
   "source": [
    "# Apply Transfer learning "
   ]
  },
  {
   "cell_type": "code",
   "execution_count": null,
   "metadata": {},
   "outputs": [],
   "source": [
    "# Step 4: Transfer learning \n",
    "class GarbageModel(nn.Module):\n",
    "    def __init__(self, num_classes, input_shape=(3, 224, 224), transfer=True):\n",
    "        super(GarbageModel, self).__init__()\n",
    "\n",
    "        # Text feature extraction\n",
    "        self.distilbert = DistilBertModel.from_pretrained('distilbert-base-uncased') # Using pretrained model\n",
    "        self.drop = nn.Dropout(0.3)\n",
    "        self.text_out = nn.Linear(self.distilbert.config.hidden_size, 256)\n",
    "        self.text_norm = nn.LayerNorm(256)\n",
    "\n",
    "        # ResNet50 for image feature extraction\n",
    "        self.feature_extractor = models.resnet50(weights=models.ResNet50_Weights.DEFAULT if transfer else None) # Using pretrained model\n",
    "        self.feature_extractor.fc = nn.Identity()   # Replace the final fully connected layer of ResNet with an identity layer to extract features directly\n",
    "        if transfer:\n",
    "            for param in self.feature_extractor.parameters(): # Freeze all layers of the feature extractor to retain pre-trained weights\n",
    "                param.requires_grad = False\n",
    "            for param in self.feature_extractor.layer4.parameters():  # Unfreeze only the last layer block to allow fine-tuning on higher-level features\n",
    "                param.requires_grad = True\n",
    "\n",
    "        n_image_features = self._get_conv_output(input_shape)     # Calculate the number of output features from the feature extractor\n",
    "        self.image_classifier = nn.Linear(n_image_features, 256) # Using 256 features to give equal importance to image and text\n",
    "        self.image_norm = nn.LayerNorm(256)  # Apply layer normalization for multi model and it gives better result than batch norm\n",
    "\n",
    "        # Final classification layer\n",
    "        self.classifiermain = nn.Linear(256 + 256, num_classes) \n",
    "\n",
    "    # This function extracts number of features \n",
    "    def _get_conv_output(self, shape): \n",
    "        batch_size = 1\n",
    "        tmp_input = torch.autograd.Variable(torch.rand(batch_size, *shape)) # This check the model's output dimensions.\n",
    "        output_feat = self.feature_extractor(tmp_input)\n",
    "        n_size = output_feat.data.view(batch_size, -1).size(1)  # Flatten the output features and calculate the size of the resulting vector.\n",
    "        return n_size\n",
    "\n",
    "    def forward(self, images, input_ids, attention_mask):\n",
    "        text_features = self.distilbert(input_ids=input_ids, attention_mask=attention_mask).last_hidden_state[:, 0]\n",
    "        text_features = self.drop(text_features)\n",
    "        text_features = self.text_out(text_features)\n",
    "        text_features = self.text_norm(text_features)\n",
    "\n",
    "        image_features = self.feature_extractor(images)\n",
    "        image_features = image_features.view(image_features.size(0), -1)\n",
    "        image_features = self.image_classifier(image_features)\n",
    "        image_features = self.image_norm(image_features)\n",
    "\n",
    "        combined_features = torch.cat((text_features, image_features), dim=1)   # This Concatenate text and image features\n",
    "        output = self.classifiermain(combined_features)  # The combined features is pass through the final classifier to produce the output for each class.\n",
    "        return output\n",
    "\n",
    "num_classes = len(train_dataset.label_map)\n",
    "model = GarbageModel(num_classes=num_classes).to(device)\n"
   ]
  },
  {
   "cell_type": "markdown",
   "metadata": {},
   "source": [
    "#  Loss and metrics calculation"
   ]
  },
  {
   "cell_type": "code",
   "execution_count": null,
   "metadata": {},
   "outputs": [],
   "source": [
    "# Step 5: Loss and metrics \n",
    "class_weights = torch.tensor([2, 1, 2.1, 2.2], dtype=torch.float).to(device) #Assigning relative importance to the classes depending on number of samples\n",
    "criterion = nn.CrossEntropyLoss(weight=class_weights)\n",
    "optimizer = Adam(model.parameters(), lr=5e-5)\n",
    "scheduler = ReduceLROnPlateau(optimizer, mode='min', factor=0.5, patience=2)\n",
    "num_epochs = 10"
   ]
  },
  {
   "cell_type": "markdown",
   "metadata": {},
   "source": [
    "# Set callbacks and tracking"
   ]
  },
  {
   "cell_type": "code",
   "execution_count": null,
   "metadata": {},
   "outputs": [],
   "source": [
    "# Callback functions are embedded within the training loop\n",
    "# Save the best model with early stopping\n",
    "best_val_loss = float('inf')"
   ]
  },
  {
   "cell_type": "markdown",
   "metadata": {},
   "source": [
    "# Train the model"
   ]
  },
  {
   "cell_type": "code",
   "execution_count": null,
   "metadata": {},
   "outputs": [],
   "source": [
    "# Step 8: Train model\n",
    "def train(model, train_loader, val_loader):\n",
    "    global best_val_loss\n",
    "    for epoch in range(num_epochs):\n",
    "        model.train()\n",
    "        train_loss = 0\n",
    "        for batch in train_loader:\n",
    "            images = batch['image'].to(device)\n",
    "            input_ids = batch['input_ids'].to(device)\n",
    "            attention_mask = batch['attention_mask'].to(device)\n",
    "            labels = batch['label'].to(device)\n",
    "\n",
    "            optimizer.zero_grad()\n",
    "            outputs = model(images, input_ids, attention_mask)\n",
    "            loss = criterion(outputs, labels)\n",
    "            loss.backward()\n",
    "            optimizer.step()\n",
    "            train_loss += loss.item()\n",
    "\n",
    "        model.eval()\n",
    "        val_loss = 0\n",
    "        all_labels = []\n",
    "        all_preds = []\n",
    "        with torch.no_grad():\n",
    "            for batch in val_loader:\n",
    "                images = batch['image'].to(device)\n",
    "                input_ids = batch['input_ids'].to(device)\n",
    "                attention_mask = batch['attention_mask'].to(device)\n",
    "                labels = batch['label'].to(device)\n",
    "\n",
    "                outputs = model(images, input_ids, attention_mask)\n",
    "                loss = criterion(outputs, labels)\n",
    "                val_loss += loss.item()\n",
    "\n",
    "                _, preds = torch.max(outputs, 1)\n",
    "                all_labels.extend(labels.cpu().numpy())\n",
    "                all_preds.extend(preds.cpu().numpy())\n",
    "\n",
    "        scheduler.step(val_loss / len(val_loader))\n",
    "        avg_val_loss = val_loss / len(val_loader)\n",
    "        if avg_val_loss < best_val_loss:\n",
    "            best_val_loss = avg_val_loss\n",
    "            torch.save(model.state_dict(), \"best_model.pth\") # Save the best model weights\n",
    "\n",
    "        accuracy = accuracy_score(all_labels, all_preds)  # Calculate the accuracy for this epoch\n",
    "        print(f\"Epoch {epoch+1}/{num_epochs}, Train Loss: {train_loss/len(train_loader)}, Val Loss: {avg_val_loss:.4f}, Val Accuracy: {accuracy:.4f}\")\n",
    "\n",
    "train(model, train_loader, val_loader)"
   ]
  },
  {
   "cell_type": "markdown",
   "metadata": {},
   "source": [
    "# Test the model"
   ]
  },
  {
   "cell_type": "code",
   "execution_count": null,
   "metadata": {},
   "outputs": [],
   "source": [
    "# Step 9: Test model\n",
    "def evaluate(model, test_loader):\n",
    "    model.eval()\n",
    "    all_labels, all_preds = [], []\n",
    "    with torch.no_grad():\n",
    "        for batch in test_loader:\n",
    "            images = batch['image'].to(device)\n",
    "            input_ids = batch['input_ids'].to(device)\n",
    "            attention_mask = batch['attention_mask'].to(device)\n",
    "            labels = batch['label'].to(device)\n",
    "\n",
    "            outputs = model(images, input_ids, attention_mask)\n",
    "            _, preds = torch.max(outputs, 1)\n",
    "            all_labels.extend(labels.cpu().numpy())\n",
    "            all_preds.extend(preds.cpu().numpy())\n",
    "\n",
    "    cm = confusion_matrix(all_labels, all_preds)\n",
    "    accuracy = accuracy_score(all_labels, all_preds)\n",
    "    sensitivity = recall_score(all_labels, all_preds, average='macro')\n",
    "    specificity = precision_score(all_labels, all_preds, average='macro')\n",
    "    print(f\"Test Accuracy: {accuracy:.4f}, Sensitivity: {sensitivity:.4f}, Specificity: {specificity:.4f}\")\n",
    "    print(\"\\nClassification Report:\\n\", classification_report(all_labels, all_preds, target_names=class_names))\n",
    "    return cm"
   ]
  },
  {
   "cell_type": "markdown",
   "metadata": {},
   "source": [
    "# Evaluate and plot confusion matrix"
   ]
  },
  {
   "cell_type": "code",
   "execution_count": null,
   "metadata": {},
   "outputs": [],
   "source": [
    "# Evaluate and plot confusion matrix\n",
    "cm = evaluate(model, test_loader)\n",
    "plt.figure(figsize=(10, 8))\n",
    "sns.heatmap(cm, annot=True, fmt=\"d\", cmap=\"Blues\", xticklabels=class_names, yticklabels=class_names)\n",
    "plt.xlabel(\"Predicted\")\n",
    "plt.ylabel(\"True\")\n",
    "plt.title(\"Confusion Matrix\")\n",
    "plt.show()\n",
    "\n",
    "# Define the path to save the confusion matrix\n",
    "save_path = \"/home/chibuike.ohanu/work/garbage_transfer_learning/confusion_matrix_tl_text.png\"\n",
    "\n",
    "# Ensure the directory exists\n",
    "os.makedirs(os.path.dirname(save_path), exist_ok=True)\n",
    "\n",
    "# Save the confusion matrix as an image file\n",
    "plt.savefig(save_path)\n",
    "plt.close()\n"
   ]
  },
  {
   "cell_type": "markdown",
   "metadata": {},
   "source": [
    "\n",
    "\n",
    "Device: cuda\n",
    "Image Sizes: [(1024, 1024), (1024, 1024), (1024, 1024), (1024, 1024), (1024, 1024)] ...\n",
    "Image Formats: {'PNG'}\n",
    "Epoch 1/10, Train Loss: 0.3580745735605682, Val Loss: 0.2458, Val Accuracy: 0.9156\n",
    "Epoch 2/10, Train Loss: 0.12358449699888502, Val Loss: 0.1928, Val Accuracy: 0.9378\n",
    "Epoch 3/10, Train Loss: 0.0563851877292297, Val Loss: 0.1915, Val Accuracy: 0.9467\n",
    "Epoch 4/10, Train Loss: 0.033445614076593196, Val Loss: 0.1851, Val Accuracy: 0.9483\n",
    "Epoch 5/10, Train Loss: 0.020215503969244354, Val Loss: 0.2441, Val Accuracy: 0.9422\n",
    "Epoch 6/10, Train Loss: 0.015239931112753817, Val Loss: 0.2168, Val Accuracy: 0.9511\n",
    "Epoch 7/10, Train Loss: 0.0143803416834896, Val Loss: 0.2414, Val Accuracy: 0.9472\n",
    "Epoch 8/10, Train Loss: 0.008056116905220314, Val Loss: 0.2259, Val Accuracy: 0.9472\n",
    "Epoch 9/10, Train Loss: 0.0043655478612295, Val Loss: 0.2267, Val Accuracy: 0.9511\n",
    "Epoch 10/10, Train Loss: 0.0036459891570328378, Val Loss: 0.2139, Val Accuracy: 0.9544\n",
    "Test Accuracy: 0.6945, Sensitivity: 0.6819, Specificity: 0.7166\n",
    "\n",
    "Classification Report:\n",
    "               precision    recall  f1-score   support\n",
    "\n",
    "         Red       0.56      0.53      0.55       695\n",
    "        Blue       0.61      0.79      0.69      1085\n",
    "       Black       0.86      0.77      0.82       799\n",
    "         TTR       0.83      0.63      0.72       852\n",
    "\n",
    "    accuracy                           0.69      3431\n",
    "   macro avg       0.72      0.68      0.69      3431\n",
    "weighted avg       0.71      0.69      0.70      3431\n"
   ]
  },
  {
   "attachments": {
    "image.png": {
     "image/png": "[encoded data removed]"
    }
   },
   "cell_type": "markdown",
   "metadata": {},
   "source": [
    "![image.png](attachment:image.png)"
   ]
  }
 ],
 "metadata": {
  "language_info": {
   "name": "python"
  }
 },
 "nbformat": 4,
 "nbformat_minor": 2
}
